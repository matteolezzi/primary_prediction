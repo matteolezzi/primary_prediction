{
 "cells": [
  {
   "cell_type": "code",
   "execution_count": 1,
   "id": "914facc8-1b08-49de-bd40-b9bec76d85f1",
   "metadata": {},
   "outputs": [],
   "source": [
    "import uproot\n",
    "import pandas as pd \n",
    "import matplotlib.pyplot as plt\n",
    "import awkward as ak\n",
    "import numpy as np\n",
    "from sklearn.ensemble import RandomForestClassifier\n",
    "from sklearn.model_selection import train_test_split\n",
    "from sklearn.metrics import accuracy_score"
   ]
  },
  {
   "cell_type": "code",
   "execution_count": 2,
   "id": "cddc2dd4-136b-4dea-a738-7329c3c9c436",
   "metadata": {},
   "outputs": [
    {
     "name": "stdout",
     "output_type": "stream",
     "text": [
      "['Header;1', 'Shower;1']\n"
     ]
    }
   ],
   "source": [
    "protoni_path = \"protoni_10000.root\"\n",
    "fotoni_path = \"fotoni_10000_indice2.root\"\n",
    "with uproot.open(protoni_path) as file:\n",
    "    print(file.keys())"
   ]
  },
  {
   "cell_type": "code",
   "execution_count": 3,
   "id": "add9f7b0-9ffe-40ac-ae5a-d1d037f51183",
   "metadata": {},
   "outputs": [
    {
     "name": "stdout",
     "output_type": "stream",
     "text": [
      "[ 6391033.5  7861877.   5696079.5 ...  6916859.   4319329.  10266868. ]\n",
      "['lgE', 'zenith', 'azimuth', 'Seed2', 'Seed3', 'Xfirst', 'Hfirst', 'XfirstIn', 'altitude', 'X0', 'Xmax', 'Nmax', 'p1', 'p2', 'p3', 'chi2', 'Xmx', 'Nmx', 'XmxdEdX', 'dEdXmx', 'cpuTime', 'nX', 'X', 'N', 'H', 'D', 'dEdX', 'Mu', 'Gamma', 'Electrons', 'Hadrons', 'dMu', 'EGround']\n"
     ]
    }
   ],
   "source": [
    "with uproot.open(protoni_path) as file:\n",
    "    shower_p = file[\"Shower\"]\n",
    "    df_p = shower_p.arrays(library=\"pd\") \n",
    "    Mu_ground_p = np.array([x[-1] for x in df_p[\"Mu\"]]) #array del valore a terra dei Mu per ogni evento\n",
    "    print(Mu_ground_p)\n",
    "    df_p[\"Mu_ground\"] = Mu_ground_p\n",
    "    print(shower_p.keys())"
   ]
  },
  {
   "cell_type": "code",
   "execution_count": 4,
   "id": "4be7a9fd-7142-41a2-91ab-24a386ec9d9b",
   "metadata": {
    "scrolled": true
   },
   "outputs": [
    {
     "name": "stdout",
     "output_type": "stream",
     "text": [
      "         lgE     zenith     azimuth   Seed2  Seed3      Xfirst        Hfirst  \\\n",
      "0  18.054790  14.277386   26.915691       3      0    0.842654  50143.687500   \n",
      "1  18.372387  58.412361  119.279938  169046      0  192.690445  16266.759766   \n",
      "2  18.128132  39.524895  121.361275    8514      0   43.871632  23332.671875   \n",
      "3  18.458578  63.694782  277.772980  194324      0   17.722858  32879.250000   \n",
      "4  18.625795  28.968327  183.309158  640556      0  127.224701  15690.264648   \n",
      "\n",
      "   XfirstIn  altitude         X0  ...  \\\n",
      "0  0.847651       0.0  -0.009987  ...   \n",
      "1  0.788660       0.0  81.416092  ...   \n",
      "2  0.501517       0.0  -0.000122  ...   \n",
      "3  0.673540       0.0  -5.224577  ...   \n",
      "4  0.793284       0.0  65.973907  ...   \n",
      "\n",
      "                                                   H  \\\n",
      "0  [100000.0, 31603.900390625, 26983.51171875, 24...   \n",
      "1  [100000.0, 35774.2890625, 30978.279296875, 282...   \n",
      "2  [100000.0, 33140.9453125, 28467.353515625, 258...   \n",
      "3  [100000.0, 36918.390625, 32054.017578125, 2933...   \n",
      "4  [100000.0, 32291.125, 27648.39453125, 24993.36...   \n",
      "\n",
      "                                                   D  \\\n",
      "0  [101672.7734375, 31142.177734375, 26375.873046...   \n",
      "1  [184556.46875, 65129.70703125, 56091.74609375,...   \n",
      "2  [127147.609375, 41056.23046875, 35016.0390625,...   \n",
      "3  [215920.078125, 79218.46875, 68465.921875, 624...   \n",
      "4  [112416.6796875, 35260.93359375, 29961.4960937...   \n",
      "\n",
      "                                                dEdX  \\\n",
      "0  [14.671419143676758, 28.88167953491211, 60.564...   \n",
      "1  [0.006802220828831196, 0.006830933038145304, 0...   \n",
      "2  [0.013921567238867283, 0.018391286954283714, 0...   \n",
      "3  [0.012442676350474358, 1.0099308490753174, 464...   \n",
      "4  [0.01131569966673851, 0.00822844821959734, 0.0...   \n",
      "\n",
      "                                                  Mu  \\\n",
      "0  [0.0, 1268.03173828125, 2672.101318359375, 490...   \n",
      "1  [0.0, 0.0, 0.0, 0.0, 0.0, 0.0, 0.0, 0.0, 0.0, ...   \n",
      "2  [0.0, 0.0, 0.0, 0.0, 0.0, 116.93336486816406, ...   \n",
      "3  [0.0, 0.0, 67.58172607421875, 929.173828125, 2...   \n",
      "4  [0.0, 0.0, 0.0, 0.0, 0.0, 0.0, 0.0, 0.0, 0.0, ...   \n",
      "\n",
      "                                               Gamma  \\\n",
      "0  [0.0, 3910.5859375, 13098.4892578125, 32300.79...   \n",
      "1  [0.0, 0.0, 0.0, 0.0, 0.0, 0.0, 0.0, 0.0, 0.0, ...   \n",
      "2  [0.0, 0.0, 0.04218456521630287, 0.027023267000...   \n",
      "3  [0.0, 0.0, 525.0, 3801.10693359375, 13633.0966...   \n",
      "4  [0.0, 0.0, 0.0, 0.0, 0.011852091178297997, 0.0...   \n",
      "\n",
      "                                           Electrons  \\\n",
      "0  [0.0, 1024.9205322265625, 3816.932861328125, 1...   \n",
      "1  [0.0, 0.0, 0.0, 0.0, 0.0, 0.0, 0.0, 0.0, 0.0, ...   \n",
      "2  [0.0, 1.0, -0.06292518973350525, 2.00258445739...   \n",
      "3  [0.0, 0.0, 25.0, 763.2822265625, 3644.92456054...   \n",
      "4  [0.0, 0.0, 0.0, 1.0, -0.019827796146273613, 0....   \n",
      "\n",
      "                                             Hadrons  \\\n",
      "0  [1.0, 1642.515625, 3265.5595703125, 5447.60400...   \n",
      "1  [1.0, 1.0, 1.0, 1.0, 1.0, 1.0, 1.0, 1.0, 1.0, ...   \n",
      "2  [1.0, 1.0, 1.0, 1.0, 1.0, 1036.4122314453125, ...   \n",
      "3  [1.0, 1.0, 475.59661865234375, 1859.1013183593...   \n",
      "4  [1.0, 1.0, 1.0, 1.0, 1.0, 1.0, 1.0, 1.0, 1.0, ...   \n",
      "\n",
      "                                                 dMu  \\\n",
      "0  [1449.0, 119.0, 1461.6318359375, 3008.78002929...   \n",
      "1  [0.0, 0.0, 0.0, 0.0, 0.0, 0.0, 0.0, 0.0, 0.0, ...   \n",
      "2  [0.0, 0.0, 0.0, 0.0, 123.0, 210.0, 844.7673950...   \n",
      "3  [0.0, 69.0, 138.0, 1012.4730834960938, 1774.60...   \n",
      "4  [0.0, 0.0, 0.0, 0.0, 0.0, 0.0, 0.0, 0.0, 0.0, ...   \n",
      "\n",
      "                                EGround   Mu_ground  \n",
      "0   [202566336.0 33737148.0 67333960.0]   6391033.5  \n",
      "1    [13319032.0 3413951.0 108572616.0]   7861877.0  \n",
      "2   [117352944.0 12908583.0 64257160.0]   5696079.5  \n",
      "3  [793450.5 140303.671875 109043608.0]   4849120.5  \n",
      "4  [1694645376.0 71739672.0 96817984.0]  10725004.0  \n",
      "\n",
      "[5 rows x 34 columns]\n"
     ]
    }
   ],
   "source": [
    "print(df_p.head())"
   ]
  },
  {
   "cell_type": "code",
   "execution_count": 5,
   "id": "3bbf2a8d-5606-4e08-ad0c-389f366c0c02",
   "metadata": {},
   "outputs": [
    {
     "data": {
      "text/plain": [
       "np.True_"
      ]
     },
     "execution_count": 5,
     "metadata": {},
     "output_type": "execute_result"
    }
   ],
   "source": [
    "(df_p['Xmax'] > 2000).any()"
   ]
  },
  {
   "cell_type": "code",
   "execution_count": 6,
   "id": "4c0cedd8-f18a-4f4a-ac01-d95cf0218f52",
   "metadata": {},
   "outputs": [
    {
     "name": "stdout",
     "output_type": "stream",
     "text": [
      "['Header;1', 'Shower;1']\n"
     ]
    }
   ],
   "source": [
    "with uproot.open(fotoni_path) as file:\n",
    "    print(file.keys())"
   ]
  },
  {
   "cell_type": "code",
   "execution_count": 7,
   "id": "7555e03c-7f0e-498c-908e-b1ffc6560884",
   "metadata": {},
   "outputs": [
    {
     "name": "stdout",
     "output_type": "stream",
     "text": [
      "[ 678056.4 1099551.  2977366.5 ... 2613547.5 4612663.5 1150389.4]\n",
      "['lgE', 'zenith', 'azimuth', 'Seed2', 'Seed3', 'Xfirst', 'Hfirst', 'XfirstIn', 'altitude', 'X0', 'Xmax', 'Nmax', 'p1', 'p2', 'p3', 'chi2', 'Xmx', 'Nmx', 'XmxdEdX', 'dEdXmx', 'cpuTime', 'nX', 'X', 'N', 'H', 'D', 'dEdX', 'Mu', 'Gamma', 'Electrons', 'Hadrons', 'dMu', 'EGround']\n"
     ]
    }
   ],
   "source": [
    "with uproot.open(fotoni_path) as file:\n",
    "    shower_f = file[\"Shower\"]\n",
    "    df_f = shower_f.arrays(library=\"pd\")\n",
    "    Mu_ground_f = np.array([x[-1] for x in df_f[\"Mu\"]]) #array del valore a terra dei Mu per ogni\n",
    "    df_f[\"Mu_ground\"] = Mu_ground_f\n",
    "    print(Mu_ground_f)\n",
    "    \n",
    "    print(shower_f.keys())\n",
    "    "
   ]
  },
  {
   "cell_type": "code",
   "execution_count": 8,
   "id": "fb72e504-d5a1-4bff-b834-68930c4f4546",
   "metadata": {
    "collapsed": true,
    "jupyter": {
     "outputs_hidden": true
    }
   },
   "outputs": [
    {
     "name": "stdout",
     "output_type": "stream",
     "text": [
      "         lgE     zenith     azimuth   Seed2  Seed3     Xfirst        Hfirst  \\\n",
      "0  18.202272  44.798191  222.485291       3      0  14.304082  31255.046875   \n",
      "1  18.269442  23.852491  288.964569  180654      0   8.164075  33387.175781   \n",
      "2  18.697544  29.953617  200.438599  621790      0  76.174179  19037.662109   \n",
      "3  19.914516  54.300850  119.894577   28502      0  34.070583  26755.783203   \n",
      "4  18.368172  21.709972  133.565109      12      0  12.586493  30333.105469   \n",
      "\n",
      "   XfirstIn  altitude          X0  ...  \\\n",
      "0       1.0       0.0 -180.752380  ...   \n",
      "1       1.0       0.0 -198.612976  ...   \n",
      "2       1.0       0.0  -92.377899  ...   \n",
      "3       1.0       0.0 -197.475769  ...   \n",
      "4       1.0       0.0 -248.011398  ...   \n",
      "\n",
      "                                                   H  \\\n",
      "0  [100000.0, 33706.08984375, 29009.8359375, 2633...   \n",
      "1  [100000.0, 31992.630859375, 27359.888671875, 2...   \n",
      "2  [100000.0, 32356.52734375, 27711.55078125, 250...   \n",
      "3  [100000.0, 35036.7578125, 30279.587890625, 275...   \n",
      "4  [100000.0, 31887.107421875, 27257.794921875, 2...   \n",
      "\n",
      "                                                   D  \\\n",
      "0  [137898.078125, 45388.3359375, 38800.33203125,...   \n",
      "1  [107627.1171875, 33413.2109375, 28352.1875, 25...   \n",
      "2  [113492.0390625, 35678.3046875, 30325.17382812...   \n",
      "3  [166517.734375, 57321.26953125, 49244.62109375...   \n",
      "4  [105979.578125, 32781.90625, 27802.619140625, ...   \n",
      "\n",
      "                                                dEdX  \\\n",
      "0  [0.0, 0.0037270099855959415, 0.028128815814852...   \n",
      "1  [0.0010929337004199624, 23.189537048339844, 42...   \n",
      "2  [0.0, 0.0, 0.0, 0.0, 0.0, 0.0, 0.0, 0.00202562...   \n",
      "3  [0.0, 1.1876531061716378e-05, 2.21983882511267...   \n",
      "4  [0.0, 0.004960190039128065, 1.6941124200820923...   \n",
      "\n",
      "                                                  Mu  \\\n",
      "0  [0.0, 0.0, 0.0, 0.006758053787052631, 0.131291...   \n",
      "1  [0.0, 0.0, 0.02508906088769436, 0.140545308589...   \n",
      "2  [0.0, 0.0, 0.0, 0.0, 0.0, 0.0, 0.0, 0.0, 0.0, ...   \n",
      "3  [0.0, 0.0, 0.0, 0.0, 0.0, 0.013563023880124092...   \n",
      "4  [0.0, 0.0, 0.0, 0.01348691526800394, 0.0969701...   \n",
      "\n",
      "                                               Gamma  \\\n",
      "0  [1.0, 1.0, 11.604069709777832, 66.802177429199...   \n",
      "1  [1.0, 6.0, 29.821706771850586, 89.990989685058...   \n",
      "2  [1.0, 1.0, 1.0, 1.0, 1.0, 1.0, 1.0, 1.0, 3.0, ...   \n",
      "3  [1.0, 1.0, 1.0, 1.0, 12.0, 34.893741607666016,...   \n",
      "4  [1.0, 1.0, 12.0, 33.47317886352539, 105.976913...   \n",
      "\n",
      "                                           Electrons  \\\n",
      "0  [0.0, 0.0, 5.0, 16.24213409423828, 60.72625732...   \n",
      "1  [0.0, 2.0, 7.67031717300415, 24.84781646728515...   \n",
      "2  [0.0, 0.0, 0.0, 0.0, 0.0, 0.0, 0.0, 0.0, 2.0, ...   \n",
      "3  [0.0, 0.0, 0.0, 0.0, 2.0, 9.601570129394531, 2...   \n",
      "4  [0.0, 0.0, 3.0, 11.918116569519043, 30.6640167...   \n",
      "\n",
      "                                             Hadrons  \\\n",
      "0  [0.0, 0.0, 0.0, 0.022482091560959816, 0.558731...   \n",
      "1  [0.0, 0.0, 0.09562455117702484, 0.420827180147...   \n",
      "2  [0.0, 0.0, 0.0, 0.0, 0.0, 0.0, 0.0, 0.0, 0.0, ...   \n",
      "3  [0.0, 0.0, 0.0, 0.0, 0.0, 0.07753172516822815,...   \n",
      "4  [0.0, 0.0, 0.0, 0.06170118227601051, 0.2383034...   \n",
      "\n",
      "                                                 dMu  \\\n",
      "0  [0.0, 0.0, 0.0, 0.00681565934792161, 0.1264085...   \n",
      "1  [0.0, 0.0, 0.025240082293748856, 0.11835619807...   \n",
      "2  [0.0, 0.0, 0.0, 0.0, 0.0, 0.0, 0.0, 0.0, 0.0, ...   \n",
      "3  [0.0, 0.0, 0.0, 0.0, 0.0, 0.01368008740246296,...   \n",
      "4  [0.0, 0.0, 0.0, 0.013606150634586811, 0.085389...   \n",
      "\n",
      "                                 EGround     Mu_ground  \n",
      "0     [101093896.0 780562.625 5683139.0]  6.780564e+05  \n",
      "1      [637649600.0 5035709.0 7954569.5]  1.099551e+06  \n",
      "2   [2131080704.0 17977086.0 20526016.0]  2.977366e+06  \n",
      "3  [8504216576.0 86272456.0 401350944.0]  4.642715e+07  \n",
      "4     [1179127552.0 7360294.0 7147116.5]  1.114347e+06  \n",
      "\n",
      "[5 rows x 34 columns]\n"
     ]
    }
   ],
   "source": [
    "print(df_f.head())"
   ]
  },
  {
   "cell_type": "code",
   "execution_count": 9,
   "id": "04f055f4-79d5-442b-9719-5e4830043727",
   "metadata": {},
   "outputs": [
    {
     "data": {
      "text/plain": [
       "np.True_"
      ]
     },
     "execution_count": 9,
     "metadata": {},
     "output_type": "execute_result"
    }
   ],
   "source": [
    "(df_f['Xmax'] > 2000).any()"
   ]
  },
  {
   "cell_type": "code",
   "execution_count": 10,
   "id": "0c462b0c-410a-43d1-a586-1c618a0cb814",
   "metadata": {},
   "outputs": [],
   "source": [
    "df_p['label'] = 0\n",
    "df_f['label'] = 1"
   ]
  },
  {
   "cell_type": "code",
   "execution_count": 11,
   "id": "9934a635-3a27-41c0-9472-b8c86e2d06ac",
   "metadata": {},
   "outputs": [],
   "source": [
    "df_merged = pd.concat([df_p, df_f], ignore_index=True)"
   ]
  },
  {
   "cell_type": "code",
   "execution_count": 12,
   "id": "3c0fe40d-68d3-4470-b0b7-232ed5c9efd1",
   "metadata": {},
   "outputs": [
    {
     "name": "stdout",
     "output_type": "stream",
     "text": [
      "         lgE     zenith     azimuth   Seed2  Seed3      Xfirst        Hfirst  \\\n",
      "0  18.054790  14.277386   26.915691       3      0    0.842654  50143.687500   \n",
      "1  18.372387  58.412361  119.279938  169046      0  192.690445  16266.759766   \n",
      "2  18.128132  39.524895  121.361275    8514      0   43.871632  23332.671875   \n",
      "3  18.458578  63.694782  277.772980  194324      0   17.722858  32879.250000   \n",
      "4  18.625795  28.968327  183.309158  640556      0  127.224701  15690.264648   \n",
      "\n",
      "   XfirstIn  altitude         X0  ...  \\\n",
      "0  0.847651       0.0  -0.009987  ...   \n",
      "1  0.788660       0.0  81.416092  ...   \n",
      "2  0.501517       0.0  -0.000122  ...   \n",
      "3  0.673540       0.0  -5.224577  ...   \n",
      "4  0.793284       0.0  65.973907  ...   \n",
      "\n",
      "                                                   D  \\\n",
      "0  [101672.7734375, 31142.177734375, 26375.873046...   \n",
      "1  [184556.46875, 65129.70703125, 56091.74609375,...   \n",
      "2  [127147.609375, 41056.23046875, 35016.0390625,...   \n",
      "3  [215920.078125, 79218.46875, 68465.921875, 624...   \n",
      "4  [112416.6796875, 35260.93359375, 29961.4960937...   \n",
      "\n",
      "                                                dEdX  \\\n",
      "0  [14.671419143676758, 28.88167953491211, 60.564...   \n",
      "1  [0.006802220828831196, 0.006830933038145304, 0...   \n",
      "2  [0.013921567238867283, 0.018391286954283714, 0...   \n",
      "3  [0.012442676350474358, 1.0099308490753174, 464...   \n",
      "4  [0.01131569966673851, 0.00822844821959734, 0.0...   \n",
      "\n",
      "                                                  Mu  \\\n",
      "0  [0.0, 1268.03173828125, 2672.101318359375, 490...   \n",
      "1  [0.0, 0.0, 0.0, 0.0, 0.0, 0.0, 0.0, 0.0, 0.0, ...   \n",
      "2  [0.0, 0.0, 0.0, 0.0, 0.0, 116.93336486816406, ...   \n",
      "3  [0.0, 0.0, 67.58172607421875, 929.173828125, 2...   \n",
      "4  [0.0, 0.0, 0.0, 0.0, 0.0, 0.0, 0.0, 0.0, 0.0, ...   \n",
      "\n",
      "                                               Gamma  \\\n",
      "0  [0.0, 3910.5859375, 13098.4892578125, 32300.79...   \n",
      "1  [0.0, 0.0, 0.0, 0.0, 0.0, 0.0, 0.0, 0.0, 0.0, ...   \n",
      "2  [0.0, 0.0, 0.04218456521630287, 0.027023267000...   \n",
      "3  [0.0, 0.0, 525.0, 3801.10693359375, 13633.0966...   \n",
      "4  [0.0, 0.0, 0.0, 0.0, 0.011852091178297997, 0.0...   \n",
      "\n",
      "                                           Electrons  \\\n",
      "0  [0.0, 1024.9205322265625, 3816.932861328125, 1...   \n",
      "1  [0.0, 0.0, 0.0, 0.0, 0.0, 0.0, 0.0, 0.0, 0.0, ...   \n",
      "2  [0.0, 1.0, -0.06292518973350525, 2.00258445739...   \n",
      "3  [0.0, 0.0, 25.0, 763.2822265625, 3644.92456054...   \n",
      "4  [0.0, 0.0, 0.0, 1.0, -0.019827796146273613, 0....   \n",
      "\n",
      "                                             Hadrons  \\\n",
      "0  [1.0, 1642.515625, 3265.5595703125, 5447.60400...   \n",
      "1  [1.0, 1.0, 1.0, 1.0, 1.0, 1.0, 1.0, 1.0, 1.0, ...   \n",
      "2  [1.0, 1.0, 1.0, 1.0, 1.0, 1036.4122314453125, ...   \n",
      "3  [1.0, 1.0, 475.59661865234375, 1859.1013183593...   \n",
      "4  [1.0, 1.0, 1.0, 1.0, 1.0, 1.0, 1.0, 1.0, 1.0, ...   \n",
      "\n",
      "                                                 dMu  \\\n",
      "0  [1449.0, 119.0, 1461.6318359375, 3008.78002929...   \n",
      "1  [0.0, 0.0, 0.0, 0.0, 0.0, 0.0, 0.0, 0.0, 0.0, ...   \n",
      "2  [0.0, 0.0, 0.0, 0.0, 123.0, 210.0, 844.7673950...   \n",
      "3  [0.0, 69.0, 138.0, 1012.4730834960938, 1774.60...   \n",
      "4  [0.0, 0.0, 0.0, 0.0, 0.0, 0.0, 0.0, 0.0, 0.0, ...   \n",
      "\n",
      "                                EGround   Mu_ground  label  \n",
      "0   [202566336.0 33737148.0 67333960.0]   6391033.5      0  \n",
      "1    [13319032.0 3413951.0 108572616.0]   7861877.0      0  \n",
      "2   [117352944.0 12908583.0 64257160.0]   5696079.5      0  \n",
      "3  [793450.5 140303.671875 109043608.0]   4849120.5      0  \n",
      "4  [1694645376.0 71739672.0 96817984.0]  10725004.0      0  \n",
      "\n",
      "[5 rows x 35 columns]\n"
     ]
    }
   ],
   "source": [
    "print(df_merged.head())"
   ]
  },
  {
   "cell_type": "code",
   "execution_count": 13,
   "id": "36c3f675-7bc6-40d2-878d-448eb69da9cb",
   "metadata": {
    "scrolled": true
   },
   "outputs": [
    {
     "name": "stdout",
     "output_type": "stream",
     "text": [
      "             lgE     zenith     azimuth   Seed2  Seed3      Xfirst  \\\n",
      "19995  18.445856  49.784992  145.550980  192823      0    2.789230   \n",
      "19996  18.373631  26.114084  213.841583   62174      0  115.011086   \n",
      "19997  18.527517   5.081564  206.493515  186774      0   14.215553   \n",
      "19998  18.142523  60.738541  327.847107    2682      0  108.722191   \n",
      "19999  18.335855  31.349958    2.063499    1333      0   23.798532   \n",
      "\n",
      "             Hfirst  XfirstIn  altitude          X0  ...  \\\n",
      "19995  43959.089844       1.0       0.0   -0.007354  ...   \n",
      "19996  16170.998047       1.0       0.0  -10.086597  ...   \n",
      "19997  29060.439453       1.0       0.0 -198.293259  ...   \n",
      "19998  20357.773438       1.0       0.0   49.520939  ...   \n",
      "19999  26662.392578       1.0       0.0 -199.646500  ...   \n",
      "\n",
      "                                                       D  \\\n",
      "19995  [151089.96875, 50817.83203125, 43549.16796875,...   \n",
      "19996  [109588.0390625, 34167.46875, 29008.98046875, ...   \n",
      "19997  [98964.03125, 30118.837890625, 25486.04296875,...   \n",
      "19998  [197011.15625, 70647.140625, 60934.91015625, 5...   \n",
      "19999  [115109.1953125, 36307.671875, 30873.6875, 277...   \n",
      "\n",
      "                                                    dEdX  \\\n",
      "19995  [0.005466737784445286, 5.5887346267700195, 78....   \n",
      "19996  [0.0, 0.0, 0.0, 0.0, 0.0, 0.0, 0.0, 0.0, 0.0, ...   \n",
      "19997  [0.0, 0.005178894381970167, 5.92344331741333, ...   \n",
      "19998  [0.0040860301814973354, 0.0025608171708881855,...   \n",
      "19999  [0.0, 0.0, 0.0036667631939053535, 0.0306335426...   \n",
      "\n",
      "                                                      Mu  \\\n",
      "19995  [0.0, 0.0, 0.024639736860990524, 0.13519862294...   \n",
      "19996  [0.0, 0.0, 0.0, 0.0, 0.0, 0.0, 0.0, 0.0, 0.0, ...   \n",
      "19997  [0.0, 0.0, 0.0, 0.015829047188162804, 0.118250...   \n",
      "19998  [0.0, 0.0, 0.0, 0.0, 0.0, 0.0, 0.0, 0.0, 0.0, ...   \n",
      "19999  [0.0, 0.0, 0.0, 0.0, 0.0033497707918286324, 0....   \n",
      "\n",
      "                                                   Gamma  \\\n",
      "19995  [1.0, 12.0, 42.486488342285156, 150.1276702880...   \n",
      "19996  [1.0, 1.0, 1.0, 1.0, 1.0, 1.0, 1.0, 1.0, 1.0, ...   \n",
      "19997  [1.0, 1.0, 16.0, 37.94887161254883, 87.1352767...   \n",
      "19998  [1.0, 1.0, 1.0, 2.0, 1.7576743364334106, 2.558...   \n",
      "19999  [1.0, 1.0, 1.0, 11.0, 48.45130920410156, 123.3...   \n",
      "\n",
      "                                               Electrons  \\\n",
      "19995  [0.0, 3.0, 10.70305347442627, 45.4383277893066...   \n",
      "19996  [0.0, 0.0, 0.0, 0.0, 0.0, 0.0, 0.0, 0.0, 0.0, ...   \n",
      "19997  [0.0, 0.0, 3.0, 6.281230449676514, 22.18358039...   \n",
      "19998  [0.0, 0.0, 0.0, 0.0, 0.0032958644442260265, 0....   \n",
      "19999  [0.0, 0.0, 0.0, 2.9794633388519287, 10.6683988...   \n",
      "\n",
      "                                                 Hadrons  \\\n",
      "19995  [0.0, 0.0, 0.062203507870435715, 0.35628825426...   \n",
      "19996  [0.0, 0.0, 0.0, 0.0, 0.0, 0.0, 0.0, 0.0, 0.0, ...   \n",
      "19997  [0.0, 0.0, 0.0, 0.08627964556217194, 0.4235017...   \n",
      "19998  [0.0, 0.0, 0.0, 0.0, 0.0, 0.0, 0.0, 0.0, 0.0, ...   \n",
      "19999  [0.0, 0.0, 0.0, 0.0, 0.006002213805913925, 0.2...   \n",
      "\n",
      "                                                     dMu  \\\n",
      "19995  [0.0, 0.0, 0.02479676529765129, 0.113950096070...   \n",
      "19996  [0.0, 0.0, 0.0, 0.0, 0.0, 0.0, 0.0, 0.0, 0.0, ...   \n",
      "19997  [0.0, 0.0, 0.0, 0.015971068292856216, 0.104580...   \n",
      "19998  [0.0, 0.0, 0.0, 0.0, 0.0, 0.0, 0.0, 0.0, 0.0, ...   \n",
      "19999  [0.0, 0.0, 0.0, 0.0, 0.0034025299828499556, 0....   \n",
      "\n",
      "                                    EGround    Mu_ground  label  \n",
      "19995   [51655580.0 999224.9375 17558112.0]  1570183.750      1  \n",
      "19996    [1289332096.0 8566649.0 7320448.0]  1150585.875      1  \n",
      "19997  [1885833344.0 25971496.0 19372384.0]  2613547.500      1  \n",
      "19998    [2099058.0 692298.3125 77657648.0]  4612663.500      1  \n",
      "19999     [663241984.0 4903717.5 8187836.5]  1150389.375      1  \n",
      "\n",
      "[5 rows x 35 columns]\n"
     ]
    }
   ],
   "source": [
    "print(df_merged.tail())"
   ]
  },
  {
   "cell_type": "code",
   "execution_count": 14,
   "id": "3b53557f-5934-49c7-be1e-aeb04a589d70",
   "metadata": {},
   "outputs": [],
   "source": [
    "\n",
    "df_filtered = df_merged[df_merged['Xmax'] <= 2000]"
   ]
  },
  {
   "cell_type": "code",
   "execution_count": 15,
   "id": "35f292b4-a8bc-46f8-8d62-29f88f7e5ada",
   "metadata": {},
   "outputs": [
    {
     "data": {
      "text/plain": [
       "np.False_"
      ]
     },
     "execution_count": 15,
     "metadata": {},
     "output_type": "execute_result"
    }
   ],
   "source": [
    "(df_filtered['Xmax'] > 2000).any()"
   ]
  },
  {
   "cell_type": "code",
   "execution_count": 16,
   "id": "e6a7bd5f-5710-4d43-b51a-70cc7fb42e27",
   "metadata": {},
   "outputs": [
    {
     "name": "stdout",
     "output_type": "stream",
     "text": [
      "0.125 %\n"
     ]
    }
   ],
   "source": [
    "var = ((len(df_merged) - len(df_filtered))/ len(df_merged)) *100\n",
    "print(var,\"%\")"
   ]
  },
  {
   "cell_type": "code",
   "execution_count": 20,
   "id": "d3f839ff-b6aa-410a-8e74-bcb0173f86be",
   "metadata": {},
   "outputs": [
    {
     "name": "stdout",
     "output_type": "stream",
     "text": [
      "Accuracy: 0.9912\n"
     ]
    }
   ],
   "source": [
    "train_data, test_data = train_test_split(df_merged, test_size=0.2, random_state=42)\n",
    "features = [\"zenith\", \"Xmax\",\"Mu_ground\",\"lgE\"]\n",
    "y = train_data[\"label\"]\n",
    "y_test = test_data[\"label\"]\n",
    "X = pd.get_dummies(train_data[features])\n",
    "X_test = pd.get_dummies(test_data[features])\n",
    "model = RandomForestClassifier(n_estimators=200,max_depth=20,random_state=1)\n",
    "model.fit(X,y)\n",
    "y_pred = model.predict(X_test)\n",
    "accuracy = accuracy_score(y_test, y_pred)\n",
    "print(f'Accuracy: {accuracy:.4f}')"
   ]
  },
  {
   "cell_type": "code",
   "execution_count": 18,
   "id": "23240918-2418-47c9-b7e6-d01329d5ce63",
   "metadata": {},
   "outputs": [
    {
     "data": {
      "image/png": "[encoded data removed]",
      "text/plain": [
       "<Figure size 640x480 with 1 Axes>"
      ]
     },
     "metadata": {},
     "output_type": "display_data"
    }
   ],
   "source": [
    "importances = model.feature_importances_\n",
    "plt.bar(features, importances)\n",
    "plt.xlabel('Feature')\n",
    "plt.ylabel('Importanza')\n",
    "plt.title('Feature Importance')\n",
    "plt.show()"
   ]
  }
 ],
 "metadata": {
  "kernelspec": {
   "display_name": "Python 3 (ipykernel)",
   "language": "python",
   "name": "python3"
  },
  "language_info": {
   "codemirror_mode": {
    "name": "ipython",
    "version": 3
   },
   "file_extension": ".py",
   "mimetype": "text/x-python",
   "name": "python",
   "nbconvert_exporter": "python",
   "pygments_lexer": "ipython3",
   "version": "3.12.9"
  }
 },
 "nbformat": 4,
 "nbformat_minor": 5
}
